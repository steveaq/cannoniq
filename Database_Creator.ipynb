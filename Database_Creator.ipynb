{
 "cells": [
  {
   "cell_type": "code",
   "execution_count": 1,
   "metadata": {},
   "outputs": [
    {
     "name": "stderr",
     "output_type": "stream",
     "text": [
      "/Users/stephenahiabah/.pyenv/versions/3.11.0/lib/python3.11/site-packages/fuzzywuzzy/fuzz.py:11: UserWarning: Using slow pure-python SequenceMatcher. Install python-Levenshtein to remove this warning\n",
      "  warnings.warn('Using slow pure-python SequenceMatcher. Install python-Levenshtein to remove this warning')\n"
     ]
    }
   ],
   "source": [
    "import os\n",
    "import requests\n",
    "import pandas as pd\n",
    "from bs4 import BeautifulSoup\n",
    "import seaborn as sb\n",
    "import matplotlib.pyplot as plt\n",
    "import matplotlib as mpl\n",
    "import warnings\n",
    "import numpy as np\n",
    "from math import pi\n",
    "from urllib.request import urlopen\n",
    "import matplotlib.patheffects as pe\n",
    "from highlight_text import fig_text\n",
    "from adjustText import adjust_text\n",
    "from tabulate import tabulate\n",
    "import matplotlib.style as style\n",
    "import unicodedata\n",
    "from fuzzywuzzy import fuzz\n",
    "from fuzzywuzzy import process\n",
    "import matplotlib.ticker as ticker\n",
    "import matplotlib.patheffects as path_effects\n",
    "import matplotlib.font_manager as fm\n",
    "import matplotlib.colors as mcolors\n",
    "from matplotlib import cm\n",
    "from highlight_text import fig_text\n",
    "\n",
    "import matplotlib.pyplot as plt\n",
    "import seaborn as sns\n",
    "%matplotlib inline\n",
    "\n",
    "from sklearn.cluster import KMeans\n",
    "from sklearn import preprocessing\n",
    "from sklearn.decomposition import PCA\n",
    "from sklearn.preprocessing import MinMaxScaler\n",
    "\n",
    "style.use('fivethirtyeight')\n",
    "\n",
    "from PIL import Image\n",
    "import urllib\n",
    "import os\n",
    "import math\n",
    "from PIL import Image\n",
    "import matplotlib.image as image\n",
    "pd.options.display.max_columns = None\n",
    "\n",
    "\n",
    "warnings.filterwarnings('ignore') \n",
    "\n",
    "import sys\n",
    "import os\n",
    "\n",
    "# Add the directory containing FBREF_Aggregations.py to the Python path\n",
    "module_path = os.path.abspath(os.path.join('/Users/stephenahiabah/Desktop/Code/cannoniq'))\n",
    "if module_path not in sys.path:\n",
    "    sys.path.append(module_path)\n",
    "\n",
    "import FBREF_Aggregations as fbref\n",
    "\n"
   ]
  },
  {
   "cell_type": "code",
   "execution_count": 4,
   "metadata": {},
   "outputs": [
    {
     "name": "stderr",
     "output_type": "stream",
     "text": [
      "  0%|          | 0/5 [00:00<?, ?it/s]"
     ]
    },
    {
     "name": "stdout",
     "output_type": "stream",
     "text": [
      "https://fbref.com/en/squads/a2d435b3/Leicester-City-Stats\n",
      "https://fbref.com/en/squads/d3fd31cc/Everton-Stats\n",
      "https://fbref.com/en/squads/361ca564/Tottenham-Hotspur-Stats\n",
      "https://fbref.com/en/squads/33c895d4/Southampton-Stats\n",
      "https://fbref.com/en/squads/b2b47a98/Newcastle-United-Stats\n",
      "https://fbref.com/en/squads/d07537b9/Brighton-and-Hove-Albion-Stats\n",
      "https://fbref.com/en/squads/cd051869/Brentford-Stats\n",
      "https://fbref.com/en/squads/cff3d9bb/Chelsea-Stats\n",
      "https://fbref.com/en/squads/8602292d/Aston-Villa-Stats\n",
      "https://fbref.com/en/squads/b8fd03ef/Manchester-City-Stats\n",
      "https://fbref.com/en/squads/b74092de/Ipswich-Town-Stats\n",
      "https://fbref.com/en/squads/e4a775cb/Nottingham-Forest-Stats\n",
      "https://fbref.com/en/squads/822bd0ba/Liverpool-Stats\n",
      "https://fbref.com/en/squads/8cec06e1/Wolverhampton-Wanderers-Stats\n",
      "https://fbref.com/en/squads/18bb7c10/Arsenal-Stats\n",
      "https://fbref.com/en/squads/47c64c55/Crystal-Palace-Stats\n",
      "https://fbref.com/en/squads/7c21e445/West-Ham-United-Stats\n",
      "https://fbref.com/en/squads/fd962109/Fulham-Stats\n",
      "https://fbref.com/en/squads/4ba7cbea/Bournemouth-Stats\n",
      "https://fbref.com/en/squads/19538871/Manchester-United-Stats\n"
     ]
    },
    {
     "name": "stderr",
     "output_type": "stream",
     "text": [
      " 20%|██        | 1/5 [03:39<14:36, 219.22s/it]"
     ]
    },
    {
     "name": "stdout",
     "output_type": "stream",
     "text": [
      "https://fbref.com/en/squads/af5d5982/Venezia-Stats\n",
      "https://fbref.com/en/squads/922493f3/Atalanta-Stats\n",
      "https://fbref.com/en/squads/04eea015/Udinese-Stats\n",
      "https://fbref.com/en/squads/d609edc0/Internazionale-Stats\n",
      "https://fbref.com/en/squads/421387cf/Fiorentina-Stats\n",
      "https://fbref.com/en/squads/0e72edf2/Hellas-Verona-Stats\n",
      "https://fbref.com/en/squads/cf74a709/Roma-Stats\n",
      "https://fbref.com/en/squads/c4260e09/Cagliari-Stats\n",
      "https://fbref.com/en/squads/ffcbe334/Lecce-Stats\n",
      "https://fbref.com/en/squads/658bf2de/Genoa-Stats\n",
      "https://fbref.com/en/squads/105360fe/Torino-Stats\n",
      "https://fbref.com/en/squads/eab4234c/Parma-Stats\n",
      "https://fbref.com/en/squads/7213da33/Lazio-Stats\n",
      "https://fbref.com/en/squads/1d8099f8/Bologna-Stats\n",
      "https://fbref.com/en/squads/28c9c3cd/Como-Stats\n",
      "https://fbref.com/en/squads/d48ad4ff/Napoli-Stats\n",
      "https://fbref.com/en/squads/e0652b02/Juventus-Stats\n",
      "https://fbref.com/en/squads/21680aa4/Monza-Stats\n",
      "https://fbref.com/en/squads/dc56fe14/Milan-Stats\n",
      "https://fbref.com/en/squads/a3d88bd8/Empoli-Stats\n"
     ]
    },
    {
     "name": "stderr",
     "output_type": "stream",
     "text": [
      " 40%|████      | 2/5 [07:19<10:59, 219.83s/it]"
     ]
    },
    {
     "name": "stdout",
     "output_type": "stream",
     "text": [
      "https://fbref.com/en/squads/5ae09109/Auxerre-Stats\n",
      "https://fbref.com/en/squads/e2d8892c/Paris-Saint-Germain-Stats\n",
      "https://fbref.com/en/squads/c0d3eab4/Strasbourg-Stats\n",
      "https://fbref.com/en/squads/fd6114db/Monaco-Stats\n",
      "https://fbref.com/en/squads/cb188c0c/Lille-Stats\n",
      "https://fbref.com/en/squads/5725cc7b/Marseille-Stats\n",
      "https://fbref.com/en/squads/281b0e73/Montpellier-Stats\n",
      "https://fbref.com/en/squads/132ebc33/Nice-Stats\n",
      "https://fbref.com/en/squads/69236f98/Angers-Stats\n",
      "https://fbref.com/en/squads/fd4e0f7d/Lens-Stats\n",
      "https://fbref.com/en/squads/d53c0b06/Lyon-Stats\n",
      "https://fbref.com/en/squads/3f8c4b5f/Toulouse-Stats\n",
      "https://fbref.com/en/squads/d7a486cd/Nantes-Stats\n",
      "https://fbref.com/en/squads/b3072e00/Rennes-Stats\n",
      "https://fbref.com/en/squads/fb08dbb3/Brest-Stats\n",
      "https://fbref.com/en/squads/d298ef2c/Saint-Etienne-Stats\n",
      "https://fbref.com/en/squads/7fdd64e0/Reims-Stats\n",
      "https://fbref.com/en/squads/5c2737db/Le-Havre-Stats\n"
     ]
    },
    {
     "name": "stderr",
     "output_type": "stream",
     "text": [
      " 60%|██████    | 3/5 [10:37<06:59, 209.71s/it]"
     ]
    },
    {
     "name": "stdout",
     "output_type": "stream",
     "text": [
      "https://fbref.com/en/squads/03c57e2b/Osasuna-Stats\n",
      "https://fbref.com/en/squads/8d6fd021/Alaves-Stats\n",
      "https://fbref.com/en/squads/17859612/Valladolid-Stats\n",
      "https://fbref.com/en/squads/0049d422/Las-Palmas-Stats\n",
      "https://fbref.com/en/squads/ad2be733/Sevilla-Stats\n",
      "https://fbref.com/en/squads/e31d1cd9/Real-Sociedad-Stats\n",
      "https://fbref.com/en/squads/206d90db/Barcelona-Stats\n",
      "https://fbref.com/en/squads/98e8af82/Rayo-Vallecano-Stats\n",
      "https://fbref.com/en/squads/53a2f082/Real-Madrid-Stats\n",
      "https://fbref.com/en/squads/7c6f2c78/Leganes-Stats\n",
      "https://fbref.com/en/squads/2aa12281/Mallorca-Stats\n",
      "https://fbref.com/en/squads/fc536746/Real-Betis-Stats\n",
      "https://fbref.com/en/squads/2b390eca/Athletic-Club-Stats\n",
      "https://fbref.com/en/squads/a8661628/Espanyol-Stats\n",
      "https://fbref.com/en/squads/f25da7fb/Celta-Vigo-Stats\n",
      "https://fbref.com/en/squads/9024a00a/Girona-Stats\n",
      "https://fbref.com/en/squads/dcc91a7b/Valencia-Stats\n",
      "https://fbref.com/en/squads/2a8183b3/Villarreal-Stats\n",
      "https://fbref.com/en/squads/7848bd64/Getafe-Stats\n",
      "https://fbref.com/en/squads/db3b9613/Atletico-Madrid-Stats\n"
     ]
    },
    {
     "name": "stderr",
     "output_type": "stream",
     "text": [
      " 80%|████████  | 4/5 [14:14<03:32, 212.64s/it]"
     ]
    },
    {
     "name": "stdout",
     "output_type": "stream",
     "text": [
      "https://fbref.com/en/squads/2ac661d9/Holstein-Kiel-Stats\n",
      "https://fbref.com/en/squads/f0ac8ee6/Eintracht-Frankfurt-Stats\n",
      "https://fbref.com/en/squads/033ea6b8/Hoffenheim-Stats\n",
      "https://fbref.com/en/squads/add600ae/Dortmund-Stats\n",
      "https://fbref.com/en/squads/18d9d2a7/Heidenheim-Stats\n",
      "https://fbref.com/en/squads/4eaa11d7/Wolfsburg-Stats\n",
      "https://fbref.com/en/squads/c7a9f859/Bayer-Leverkusen-Stats\n",
      "https://fbref.com/en/squads/054efa67/Bayern-Munich-Stats\n",
      "https://fbref.com/en/squads/7a41008f/Union-Berlin-Stats\n",
      "https://fbref.com/en/squads/b42c6323/Bochum-Stats\n",
      "https://fbref.com/en/squads/598bc722/Stuttgart-Stats\n",
      "https://fbref.com/en/squads/62add3bf/Werder-Bremen-Stats\n",
      "https://fbref.com/en/squads/acbb6a5b/RB-Leipzig-Stats\n",
      "https://fbref.com/en/squads/54864664/St-Pauli-Stats\n",
      "https://fbref.com/en/squads/a224b06a/Mainz-05-Stats\n",
      "https://fbref.com/en/squads/32f3ee20/Monchengladbach-Stats\n",
      "https://fbref.com/en/squads/0cdc4311/Augsburg-Stats\n",
      "https://fbref.com/en/squads/a486e511/Freiburg-Stats\n"
     ]
    },
    {
     "name": "stderr",
     "output_type": "stream",
     "text": [
      "100%|██████████| 5/5 [17:28<00:00, 209.79s/it]\n"
     ]
    }
   ],
   "source": [
    "fb_ref_db = fbref.CreateFBRefDatabase()\n",
    "\n",
    "top_6_league_stats_urls = ['https://fbref.com/en/comps/9/Premier-League-Stats',\n",
    "                            'https://fbref.com/en/comps/11/Serie-A-Stats', \n",
    "                            'https://fbref.com/en/comps/13/Ligue-1-Stats', \n",
    "                            'https://fbref.com/en/comps/12/La-Liga-Stats', \n",
    "                            'https://fbref.com/en/comps/20/Bundesliga-Stats']\n",
    "\n",
    "\n",
    "player_phonebook = fb_ref_db.create_player_phonebook(top_6_league_stats_urls)\n"
   ]
  },
  {
   "cell_type": "code",
   "execution_count": 6,
   "metadata": {},
   "outputs": [],
   "source": [
    "player_phonebook.to_csv('CSVs/24-25player_phonebook.csv', index=False)"
   ]
  },
  {
   "cell_type": "code",
   "execution_count": null,
   "metadata": {},
   "outputs": [],
   "source": []
  }
 ],
 "metadata": {
  "kernelspec": {
   "display_name": "3.11.0",
   "language": "python",
   "name": "python3"
  },
  "language_info": {
   "codemirror_mode": {
    "name": "ipython",
    "version": 3
   },
   "file_extension": ".py",
   "mimetype": "text/x-python",
   "name": "python",
   "nbconvert_exporter": "python",
   "pygments_lexer": "ipython3",
   "version": "3.11.0"
  }
 },
 "nbformat": 4,
 "nbformat_minor": 2
}
